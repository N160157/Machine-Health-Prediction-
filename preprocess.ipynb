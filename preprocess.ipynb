{
 "cells": [
  {
   "cell_type": "code",
   "execution_count": 13,
   "metadata": {},
   "outputs": [
    {
     "name": "stdout",
     "output_type": "stream",
     "text": [
      "Reading data low rpm.txt...\n",
      "Converted data low rpm.txt to data low rpm.csv\n",
      "Reading mal data at high rpm using job.txt...\n",
      "Converted mal data at high rpm using job.txt to mal data at high rpm using job.csv\n",
      "Reading mal data at high rpm using newer drill bit using wood.txt...\n",
      "Converted mal data at high rpm using newer drill bit using wood.txt to mal data at high rpm using newer drill bit using wood.csv\n",
      "Reading high rpm data.txt...\n",
      "Converted high rpm data.txt to high rpm data.csv\n",
      "Reading mal data using new drill bit with brick at low rpm.txt...\n",
      "Converted mal data using new drill bit with brick at low rpm.txt to mal data using new drill bit with brick at low rpm.csv\n",
      "Reading MAL DATA AT HIGH RPM.txt...\n",
      "Converted MAL DATA AT HIGH RPM.txt to MAL DATA AT HIGH RPM.csv\n",
      "Reading MAL DATA USING WOODEN JOB 125.txt...\n",
      "Converted MAL DATA USING WOODEN JOB 125.txt to MAL DATA USING WOODEN JOB 125.csv\n",
      "Reading GAOCHENG DATA USING WORN OUT DRILL AT LOW RPM WITH WOOD.txt...\n",
      "Converted GAOCHENG DATA USING WORN OUT DRILL AT LOW RPM WITH WOOD.txt to GAOCHENG DATA USING WORN OUT DRILL AT LOW RPM WITH WOOD.csv\n",
      "Reading mal data at high rpm using newer drill bit using brick.txt...\n",
      "Converted mal data at high rpm using newer drill bit using brick.txt to mal data at high rpm using newer drill bit using brick.csv\n",
      "Reading mal data at low rpm using bricks.txt...\n",
      "Converted mal data at low rpm using bricks.txt to mal data at low rpm using bricks.csv\n",
      "Reading mal data at high rpm using bricks.txt...\n",
      "Converted mal data at high rpm using bricks.txt to mal data at high rpm using bricks.csv\n",
      "Reading MAL DATA AT LOW RPM WITHOUT JOB.txt...\n",
      "Converted MAL DATA AT LOW RPM WITHOUT JOB.txt to MAL DATA AT LOW RPM WITHOUT JOB.csv\n",
      "Reading mal data at low rpm using wood in new drill bit.txt...\n",
      "Converted mal data at low rpm using wood in new drill bit.txt to mal data at low rpm using wood in new drill bit.csv\n"
     ]
    }
   ],
   "source": [
    "import os\n",
    "import pandas as pd\n",
    "\n",
    "# Set the directory containing your .txt files\n",
    "input_dir = \"./data\"\n",
    "output_dir = \"./final_data\"\n",
    "\n",
    "# Create output directory if it doesn't exist\n",
    "os.makedirs(output_dir, exist_ok=True)\n",
    "\n",
    "# Loop through all files in the directory\n",
    "for filename in os.listdir(input_dir):\n",
    "    if filename.endswith(\".txt\"):\n",
    "        txt_path = os.path.join(input_dir, filename)\n",
    "        csv_filename = filename.replace(\".txt\", \".csv\")\n",
    "        csv_path = os.path.join(output_dir, csv_filename)\n",
    "\n",
    "        # Read the .txt file as CSV (comma-separated)\n",
    "        print(f\"Reading {filename}...\")\n",
    "        df = pd.read_csv(txt_path, header=None)  # no header assumed\n",
    "\n",
    "        # Save to .csv\n",
    "        df.to_csv(csv_path, index=False, header=False)\n",
    "\n",
    "        print(f\"Converted {filename} to {csv_filename}\")\n"
   ]
  },
  {
   "cell_type": "markdown",
   "metadata": {},
   "source": [
    "data low rpm ---- safe\n",
    "\n",
    "GAOCHENG DATA USING WORN OUT DRILL AT LOW RPM WITH WOOD  ---- unsafe\n",
    "\n",
    "high rpm data ---- unsafe\n",
    "\n",
    "mal data at high rpm using bricks  ---- unsafe\n",
    "\n",
    "mal data at high rpm using job ---- unsafe\n",
    "\n",
    "mal data at high rpm using newer drill bit using brick ---- unsafe\n",
    "\n",
    "mal data at high rpm using newer drill bit using wood ---- unsafe\n",
    "\n",
    "MAL DATA AT HIGH RPM ---- unsafe\n",
    "\n",
    "mal data at low rpm using bricks ---- unsafe\n",
    "\n",
    "mal data at low rpm using wood in new drill bit ---- safe\n",
    "\n",
    "MAL DATA AT LOW RPM WITHOUT JOB  ---- unsafe\n",
    "\n",
    "mal data using new drill bit with brick at low rpm ---- safe\n",
    "\n",
    "MAL DATA USING WOODEN JOB 125 ---- safe"
   ]
  },
  {
   "cell_type": "code",
   "execution_count": 17,
   "metadata": {},
   "outputs": [
    {
     "name": "stdout",
     "output_type": "stream",
     "text": [
      "✅ File saved as 'combined_labeled_data.csv'\n"
     ]
    }
   ],
   "source": [
    "import pandas as pd\n",
    "import os\n",
    "\n",
    "# Folder containing your CSV files\n",
    "data_dir = \"./final_data\"  # Change this to your folder\n",
    "\n",
    "# Mapping from filename (no extension) to label\n",
    "file_label_map = {\n",
    "    \"data low rpm\": \"safe\",\n",
    "    \"GAOCHENG DATA USING WORN OUT DRILL AT LOW RPM WITH WOOD\": \"unsafe\",\n",
    "    \"high rpm data\": \"unsafe\",\n",
    "    \"mal data at high rpm using bricks\": \"unsafe\",\n",
    "    \"mal data at high rpm using job\": \"unsafe\",\n",
    "    \"mal data at high rpm using newer drill bit using brick\": \"unsafe\",\n",
    "    \"mal data at high rpm using newer drill bit using wood\": \"unsafe\",\n",
    "    \"MAL DATA AT HIGH RPM\": \"unsafe\",\n",
    "    \"mal data at low rpm using bricks\": \"unsafe\",\n",
    "    \"mal data at low rpm using wood in new drill bit\": \"safe\",\n",
    "    \"MAL DATA AT LOW RPM WITHOUT JOB\": \"unsafe\",\n",
    "    \"mal data using new drill bit with brick at low rpm\": \"safe\",\n",
    "    \"MAL DATA USING WOODEN JOB 125\": \"safe\"\n",
    "}\n",
    "\n",
    "# Container for all labeled data\n",
    "labeled_dfs = []\n",
    "\n",
    "for filename in os.listdir(data_dir):\n",
    "    if filename.endswith(\".csv\"):\n",
    "        filepath = os.path.join(data_dir, filename)\n",
    "        file_key = filename[:-4].strip()  # Remove '.csv'\n",
    "\n",
    "        label = file_label_map.get(file_key)\n",
    "        if label is None:\n",
    "            print(f\"⚠️  Skipping file: '{filename}' (label not found)\")\n",
    "            continue\n",
    "\n",
    "        # Read file, assuming no header\n",
    "        df = pd.read_csv(filepath, header=None, names=[\"col1\", \"col2\", \"col3\"])\n",
    "        df[\"label\"] = label\n",
    "        labeled_dfs.append(df)\n",
    "\n",
    "# Combine all into one DataFrame\n",
    "combined_df = pd.concat(labeled_dfs, ignore_index=True)\n",
    "\n",
    "# Save to final CSV\n",
    "combined_df.to_csv(\"combined_labeled_data.csv\", index=False)\n",
    "print(\"✅ File saved as 'combined_labeled_data.csv'\")\n"
   ]
  },
  {
   "cell_type": "code",
   "execution_count": 18,
   "metadata": {},
   "outputs": [
    {
     "name": "stdout",
     "output_type": "stream",
     "text": [
      "✅ Numeric-labeled file saved as 'combined_labeled_data_numeric.csv'\n"
     ]
    }
   ],
   "source": [
    "# Convert label to numeric: safe → 0, unsafe → 1\n",
    "combined_df[\"label\"] = combined_df[\"label\"].map({\"safe\": 0, \"unsafe\": 1})\n",
    "\n",
    "# Save to CSV again with numeric labels\n",
    "combined_df.to_csv(\"combined_labeled_data_numeric.csv\", index=False)\n",
    "print(\"✅ Numeric-labeled file saved as 'combined_labeled_data_numeric.csv'\")\n"
   ]
  }
 ],
 "metadata": {
  "kernelspec": {
   "display_name": "nstocks",
   "language": "python",
   "name": "python3"
  },
  "language_info": {
   "codemirror_mode": {
    "name": "ipython",
    "version": 3
   },
   "file_extension": ".py",
   "mimetype": "text/x-python",
   "name": "python",
   "nbconvert_exporter": "python",
   "pygments_lexer": "ipython3",
   "version": "3.9.19"
  }
 },
 "nbformat": 4,
 "nbformat_minor": 2
}
